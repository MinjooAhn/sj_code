{
 "cells": [
  {
   "cell_type": "code",
   "execution_count": 2,
   "metadata": {},
   "outputs": [],
   "source": [
    "import numpy as np\n",
    "import matplotlib.pyplot as plt\n",
    "import pandas as pd"
   ]
  },
  {
   "cell_type": "code",
   "execution_count": 3,
   "metadata": {},
   "outputs": [
    {
     "name": "stdout",
     "output_type": "stream",
     "text": [
      "   발음오류       빈도  Percentage\n",
      "4    C4  12128.0   28.572775\n",
      "17   O1   5793.0   13.647929\n",
      "14   N1   4587.0   10.806672\n",
      "50    S   4083.0    9.619281\n",
      "18   O2   2214.0    5.216039\n",
      "5    C5   2053.0    4.836734\n",
      "1    C1   1901.0    4.478632\n",
      "31  R2E   1408.0    3.317156\n",
      "15   N2   1114.0    2.624511\n",
      "33   R3    938.0    2.209867\n",
      "25    P    714.0    1.682137\n",
      "13    L    695.0    1.637375\n",
      "41   R6    659.0    1.552561\n",
      "11    F    538.0    1.267493\n",
      "27   R1    415.0    0.977713\n",
      "6    C6    388.0    0.914103\n",
      "20   O4    363.0    0.855204\n",
      "2    C2    324.0    0.763323\n",
      "30   R2    245.0    0.577204\n",
      "21   O5    243.0    0.572492\n",
      "19   O3    185.0    0.435848\n",
      "22   O6    171.0    0.402865\n",
      "34  R3E    157.0    0.369882\n",
      "12    I    157.0    0.369882\n",
      "44   R7    132.0    0.310983\n",
      "39   R5    131.0    0.308627\n",
      "35  R3O    128.0    0.301560\n",
      "37  R4E    116.0    0.273288\n",
      "23   O7     87.0    0.204966\n",
      "40  R5E     73.0    0.171983\n",
      "28  R1E     50.0    0.117797\n",
      "29  R1O     40.0    0.094237\n",
      "10   CI     39.0    0.091881\n",
      "32  R2O     36.0    0.084814\n",
      "3    C3     26.0    0.061254\n",
      "47   R8     23.0    0.054186\n",
      "8    C7     21.0    0.049475\n",
      "24   OI     20.0    0.047119\n",
      "48  R8E     16.0    0.037695\n",
      "49  R8O     10.0    0.023559\n",
      "45  R7E      5.0    0.011780\n",
      "42  R6E      4.0    0.009424\n",
      "26    R      2.0    0.004712\n",
      "36   R4      2.0    0.004712\n",
      "38  R4O      2.0    0.004712\n",
      "43  R6O      2.0    0.004712\n",
      "9   C7E      2.0    0.004712\n",
      "46  R7O      2.0    0.004712\n",
      "0     C      2.0    0.004712\n",
      "7   C6E      1.0    0.002356\n",
      "16    O      1.0    0.002356\n"
     ]
    }
   ],
   "source": [
    "# 일어 통합 파일 정리 \n",
    "df = pd.read_excel(r\"C:\\Users\\paula\\Desktop\\Sejong Data project\\외국인\\오류 퍼센트_태국어제외\\일어\\통합 일어 오류유형_수정.xlsx\")\n",
    "# 발음오류 / 빈도 컬럼 집계\n",
    "error_columns = [col for col in df.columns if '발음오류' in col]\n",
    "frequency_columns = [col for col in df.columns if '빈도' in col]\n",
    "\n",
    "# 컬럼페어 합치기\n",
    "column_pairs = zip(error_columns, frequency_columns)\n",
    "\n",
    "# 합쳐진 데이터프레임 제작\n",
    "stacked_df = pd.DataFrame(columns=['발음오류', '빈도'])\n",
    "\n",
    "# 컬럼 합치고 데이터 입력\n",
    "for error_col, frequency_col in column_pairs:\n",
    "    stacked = df[[error_col, frequency_col]].dropna().rename(columns={error_col: '발음오류', frequency_col: '빈도'})\n",
    "    stacked_df = pd.concat([stacked_df, stacked], ignore_index=True)\n",
    "\n",
    "# 오류별 묶음 / 빈도 더하기\n",
    "grouped_df = stacked_df.groupby('발음오류')['빈도'].sum().reset_index()\n",
    "\n",
    "# 빈도 총합\n",
    "total_sum = grouped_df['빈도'].sum()\n",
    "\n",
    "# 오류 백분율 구하기\n",
    "grouped_df['Percentage'] = (grouped_df['빈도'] / total_sum) * 100\n",
    "grouped_df = grouped_df.sort_values(by ='Percentage', ascending = False)\n",
    "\n",
    "# 프린트\n",
    "print(grouped_df)"
   ]
  },
  {
   "cell_type": "code",
   "execution_count": 15,
   "metadata": {},
   "outputs": [],
   "source": [
    "# 엑셀 저장\n",
    "import openpyxl\n",
    "grouped_df.to_excel('일어 전체통계.xlsx', index = False, engine = 'xlsxwriter')"
   ]
  }
 ],
 "metadata": {
  "kernelspec": {
   "display_name": "Python 3",
   "language": "python",
   "name": "python3"
  },
  "language_info": {
   "codemirror_mode": {
    "name": "ipython",
    "version": 3
   },
   "file_extension": ".py",
   "mimetype": "text/x-python",
   "name": "python",
   "nbconvert_exporter": "python",
   "pygments_lexer": "ipython3",
   "version": "3.11.4"
  },
  "orig_nbformat": 4
 },
 "nbformat": 4,
 "nbformat_minor": 2
}
