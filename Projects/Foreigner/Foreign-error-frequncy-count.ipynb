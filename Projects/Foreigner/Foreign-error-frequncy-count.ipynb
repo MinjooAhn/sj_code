{
 "cells": [
  {
   "cell_type": "markdown",
   "metadata": {},
   "source": [
    "This code looks for errors listed in error types and calculates the frequency of occurence in the excel file. The column indexing is important as all the files have diffrent collumns to look at"
   ]
  },
  {
   "cell_type": "code",
   "execution_count": 1,
   "metadata": {},
   "outputs": [],
   "source": [
    "import pandas as pd\n",
    "import numpy as np"
   ]
  },
  {
   "cell_type": "code",
   "execution_count": 3,
   "metadata": {},
   "outputs": [],
   "source": [
    "df = pd.read_excel(r\"\")\n",
    "\n",
    "# Error types\n",
    "error_types = ['O1', 'O2', 'O3', 'O4', 'O5', 'O6',\n",
    "               'Oi', 'C1', 'C2', 'C3', 'C4', 'C5', 'C6', 'C7', 'C8', 'Ci',\n",
    "               'N1', 'N2', 'R1', 'R2', 'R3', 'R4', 'R5', 'R6', 'R7', 'R8', 'R#m',\n",
    "               'S', 'F', 'P']\n",
    "\n",
    "# INDEXING ERROR COLLUMNS (IMPORTANT)\n",
    "error_column = df.columns[8:25]\n",
    "\n",
    "error_counts = pd.DataFrame({'Error_Type': error_types})\n",
    "\n",
    "# Extracting error frequencies\n",
    "for index, row in error_counts.iterrows():\n",
    "    error_type = row['Error_Type']\n",
    "    pattern = rf'(?i)\\b{error_type}\\b'\n",
    "    error_counts.at[index, 'Frequency'] = (\n",
    "        df[error_column].astype(str).apply(lambda x: x.str.count(pattern)).sum().sum())\n",
    "\n",
    "# Decending values shuffle\n",
    "combined_df = error_counts.sort_values(by=\"Frequency\", ascending=False)\n",
    "combined_df['Percentage'] = (combined_df[\"Frequency\"] / combined_df[\"Frequency\"].sum()) * 100\n",
    "\n",
    "# Excel output\n",
    "combined_df.to_excel(\n",
    "    r\"\",\n",
    "    index=False,\n",
    "    engine='xlsxwriter'\n",
    ")"
   ]
  }
 ],
 "metadata": {
  "kernelspec": {
   "display_name": "Python 3",
   "language": "python",
   "name": "python3"
  },
  "language_info": {
   "codemirror_mode": {
    "name": "ipython",
    "version": 3
   },
   "file_extension": ".py",
   "mimetype": "text/x-python",
   "name": "python",
   "nbconvert_exporter": "python",
   "pygments_lexer": "ipython3",
   "version": "3.11.4"
  },
  "orig_nbformat": 4
 },
 "nbformat": 4,
 "nbformat_minor": 2
}
